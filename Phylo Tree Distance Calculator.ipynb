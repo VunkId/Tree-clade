{
 "cells": [
  {
   "cell_type": "code",
   "execution_count": 8,
   "id": "817aefc6-a32f-47ec-a539-0b7fd8106f0b",
   "metadata": {},
   "outputs": [
    {
     "name": "stdout",
     "output_type": "stream",
     "text": [
      "                                   _________________________________________ 5\n",
      "  ________________________________|\n",
      " |                                |_________________________________________ 4\n",
      " |\n",
      "_|                     _____________________________________________________ 3\n",
      " |              ______|\n",
      " |      _______|      |_____________________________________________________ 2\n",
      " |     |       |\n",
      " |_____|       |____________________________________________________________ 1\n",
      "       |\n",
      "       |____________________________________________________________________ 0\n",
      "\n",
      "None\n",
      "The distance between leaf node 0 and the root is: 1.09375\n"
     ]
    }
   ],
   "source": [
    "#Creating the phylogenetic tree distance calculator with Biopy\n",
    "from Bio import Phylo\n",
    "from Bio.Phylo.TreeConstruction import DistanceTreeConstructor, DistanceMatrix\n",
    "\n",
    "distance_matrix = [\n",
    "    [0],\n",
    "    [23, 0],\n",
    "    [20, 20, 0],\n",
    "    [20, 18, 17, 0],\n",
    "    [35, 13, 29, 34,0],\n",
    "    [14, 28, 24, 14, 13, 0]\n",
    "]\n",
    "\n",
    "names = [str(i) for i in range(len(distance_matrix))]\n",
    "distance_matrix_object = DistanceMatrix(names, distance_matrix)\n",
    "constructor = DistanceTreeConstructor()\n",
    "upgma_tree = constructor.upgma(distance_matrix_object)\n",
    "\n",
    "(Phylo.draw_ascii(upgma_tree))\n",
    "\n",
    "def distance_to_root(leaf_label, matrix, tree):\n",
    "    leaf_node = next(node for node in tree.find_clades() if node.name == leaf_label)\n",
    "    path_to_root = tree.get_path(leaf_node)\n",
    "    distance = sum(node.branch_length for node in path_to_root[:-1])\n",
    "    return distance\n",
    "\n",
    "    while parent_node is not None and parent_node != tree.root:\n",
    "        parent_node = parent_node.parent\n",
    "        if parent_node is not None:\n",
    "            distance += parent_node.branch_length\n",
    "\n",
    "    return distance\n",
    "\n",
    "leaf_label = '0'  # Replace this with the label of the desired leaf node\n",
    "distance = distance_to_root(leaf_label, distance_matrix, upgma_tree)\n",
    "print(f\"The distance between leaf node {leaf_label} and the root is: {distance}\")"
   ]
  },
  {
   "cell_type": "code",
   "execution_count": null,
   "id": "b4276c81-7191-4b55-94f8-b7914d8c768a",
   "metadata": {},
   "outputs": [],
   "source": []
  }
 ],
 "metadata": {
  "kernelspec": {
   "display_name": "Python 3 (ipykernel)",
   "language": "python",
   "name": "python3"
  },
  "language_info": {
   "codemirror_mode": {
    "name": "ipython",
    "version": 3
   },
   "file_extension": ".py",
   "mimetype": "text/x-python",
   "name": "python",
   "nbconvert_exporter": "python",
   "pygments_lexer": "ipython3",
   "version": "3.11.7"
  }
 },
 "nbformat": 4,
 "nbformat_minor": 5
}
